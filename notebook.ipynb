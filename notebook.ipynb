{
 "cells": [
  {
   "cell_type": "code",
   "execution_count": 1,
   "metadata": {},
   "outputs": [],
   "source": [
    "import pandas as pd\n",
    "import numpy as np\n",
    "import math\n",
    "\n",
    "import matplotlib\n",
    "import matplotlib.pyplot as plt\n",
    "\n",
    "matplotlib.rcParams.update({\n",
    "    \"pgf.texsystem\": \"pdflatex\",\n",
    "    'font.family': 'serif',\n",
    "    'text.usetex': True,\n",
    "    'pgf.rcfonts': False,\n",
    "})"
   ]
  },
  {
   "cell_type": "code",
   "execution_count": 2,
   "metadata": {},
   "outputs": [],
   "source": [
    "FIGURE_WIDTH = 5.39749\n",
    "FIGURE_HEIGHT = 3.5"
   ]
  },
  {
   "cell_type": "markdown",
   "metadata": {},
   "source": [
    "# Prepare data"
   ]
  },
  {
   "cell_type": "code",
   "execution_count": 3,
   "metadata": {},
   "outputs": [],
   "source": [
    "START_DATE = \"4/1/2020\"\n",
    "END_DATE = \"4/30/2020\""
   ]
  },
  {
   "cell_type": "code",
   "execution_count": 4,
   "metadata": {},
   "outputs": [],
   "source": [
    "df = pd.read_csv('owid-covid-data.csv')\n",
    "df = df[df['location'] == 'Spain'].reset_index(drop=True)"
   ]
  },
  {
   "cell_type": "code",
   "execution_count": 5,
   "metadata": {},
   "outputs": [],
   "source": [
    "start_idx = df[df['date'] == START_DATE].index[0]\n",
    "end_idx = df[df['date'] == END_DATE].index[0]\n",
    "df = df.iloc[start_idx:end_idx + 1].reset_index(drop=True)"
   ]
  },
  {
   "cell_type": "code",
   "execution_count": 6,
   "metadata": {},
   "outputs": [],
   "source": [
    "drop_columns = list(df.columns)\n",
    "drop_columns.remove('date')\n",
    "drop_columns.remove('total_deaths')\n",
    "df.drop(columns=drop_columns, inplace=True)"
   ]
  },
  {
   "cell_type": "code",
   "execution_count": 7,
   "metadata": {},
   "outputs": [],
   "source": [
    "N = len(df)\n",
    "new_deaths = []\n",
    "\n",
    "for i in range(N):\n",
    "    if i == 0:\n",
    "        new_deaths.append(df.iloc[1].total_deaths - df.iloc[0].total_deaths)\n",
    "    elif i == N - 1:\n",
    "        new_deaths.append(df.iloc[i].total_deaths - df.iloc[i - 1].total_deaths)\n",
    "    else:\n",
    "        new_deaths.append((df.iloc[i + 1].total_deaths - df.iloc[i - 1].total_deaths) / 2)\n",
    "        \n",
    "df['new_deaths'] = new_deaths\n",
    "df['relative_rate'] = df['new_deaths'] / df['total_deaths']"
   ]
  },
  {
   "cell_type": "code",
   "execution_count": 8,
   "metadata": {},
   "outputs": [
    {
     "data": {
      "text/html": [
       "<div>\n",
       "<style scoped>\n",
       "    .dataframe tbody tr th:only-of-type {\n",
       "        vertical-align: middle;\n",
       "    }\n",
       "\n",
       "    .dataframe tbody tr th {\n",
       "        vertical-align: top;\n",
       "    }\n",
       "\n",
       "    .dataframe thead th {\n",
       "        text-align: right;\n",
       "    }\n",
       "</style>\n",
       "<table border=\"1\" class=\"dataframe\">\n",
       "  <thead>\n",
       "    <tr style=\"text-align: right;\">\n",
       "      <th></th>\n",
       "      <th>date</th>\n",
       "      <th>total_deaths</th>\n",
       "      <th>new_deaths</th>\n",
       "      <th>relative_rate</th>\n",
       "    </tr>\n",
       "  </thead>\n",
       "  <tbody>\n",
       "    <tr>\n",
       "      <th>0</th>\n",
       "      <td>4/1/2020</td>\n",
       "      <td>9387.0</td>\n",
       "      <td>961.0</td>\n",
       "      <td>0.102376</td>\n",
       "    </tr>\n",
       "    <tr>\n",
       "      <th>1</th>\n",
       "      <td>4/2/2020</td>\n",
       "      <td>10348.0</td>\n",
       "      <td>905.5</td>\n",
       "      <td>0.087505</td>\n",
       "    </tr>\n",
       "    <tr>\n",
       "      <th>2</th>\n",
       "      <td>4/3/2020</td>\n",
       "      <td>11198.0</td>\n",
       "      <td>799.5</td>\n",
       "      <td>0.071397</td>\n",
       "    </tr>\n",
       "    <tr>\n",
       "      <th>3</th>\n",
       "      <td>4/4/2020</td>\n",
       "      <td>11947.0</td>\n",
       "      <td>721.5</td>\n",
       "      <td>0.060392</td>\n",
       "    </tr>\n",
       "    <tr>\n",
       "      <th>4</th>\n",
       "      <td>4/5/2020</td>\n",
       "      <td>12641.0</td>\n",
       "      <td>697.0</td>\n",
       "      <td>0.055138</td>\n",
       "    </tr>\n",
       "    <tr>\n",
       "      <th>5</th>\n",
       "      <td>4/6/2020</td>\n",
       "      <td>13341.0</td>\n",
       "      <td>702.0</td>\n",
       "      <td>0.052620</td>\n",
       "    </tr>\n",
       "    <tr>\n",
       "      <th>6</th>\n",
       "      <td>4/7/2020</td>\n",
       "      <td>14045.0</td>\n",
       "      <td>725.5</td>\n",
       "      <td>0.051655</td>\n",
       "    </tr>\n",
       "    <tr>\n",
       "      <th>7</th>\n",
       "      <td>4/8/2020</td>\n",
       "      <td>14792.0</td>\n",
       "      <td>701.0</td>\n",
       "      <td>0.047390</td>\n",
       "    </tr>\n",
       "    <tr>\n",
       "      <th>8</th>\n",
       "      <td>4/9/2020</td>\n",
       "      <td>15447.0</td>\n",
       "      <td>644.5</td>\n",
       "      <td>0.041723</td>\n",
       "    </tr>\n",
       "    <tr>\n",
       "      <th>9</th>\n",
       "      <td>4/10/2020</td>\n",
       "      <td>16081.0</td>\n",
       "      <td>579.5</td>\n",
       "      <td>0.036036</td>\n",
       "    </tr>\n",
       "    <tr>\n",
       "      <th>10</th>\n",
       "      <td>4/11/2020</td>\n",
       "      <td>16606.0</td>\n",
       "      <td>564.0</td>\n",
       "      <td>0.033964</td>\n",
       "    </tr>\n",
       "    <tr>\n",
       "      <th>11</th>\n",
       "      <td>4/12/2020</td>\n",
       "      <td>17209.0</td>\n",
       "      <td>575.0</td>\n",
       "      <td>0.033413</td>\n",
       "    </tr>\n",
       "    <tr>\n",
       "      <th>12</th>\n",
       "      <td>4/13/2020</td>\n",
       "      <td>17756.0</td>\n",
       "      <td>423.5</td>\n",
       "      <td>0.023851</td>\n",
       "    </tr>\n",
       "    <tr>\n",
       "      <th>13</th>\n",
       "      <td>4/14/2020</td>\n",
       "      <td>18056.0</td>\n",
       "      <td>476.0</td>\n",
       "      <td>0.026362</td>\n",
       "    </tr>\n",
       "    <tr>\n",
       "      <th>14</th>\n",
       "      <td>4/15/2020</td>\n",
       "      <td>18708.0</td>\n",
       "      <td>629.5</td>\n",
       "      <td>0.033649</td>\n",
       "    </tr>\n",
       "    <tr>\n",
       "      <th>15</th>\n",
       "      <td>4/16/2020</td>\n",
       "      <td>19315.0</td>\n",
       "      <td>647.0</td>\n",
       "      <td>0.033497</td>\n",
       "    </tr>\n",
       "    <tr>\n",
       "      <th>16</th>\n",
       "      <td>4/17/2020</td>\n",
       "      <td>20002.0</td>\n",
       "      <td>364.0</td>\n",
       "      <td>0.018198</td>\n",
       "    </tr>\n",
       "    <tr>\n",
       "      <th>17</th>\n",
       "      <td>4/18/2020</td>\n",
       "      <td>20043.0</td>\n",
       "      <td>225.5</td>\n",
       "      <td>0.011251</td>\n",
       "    </tr>\n",
       "    <tr>\n",
       "      <th>18</th>\n",
       "      <td>4/19/2020</td>\n",
       "      <td>20453.0</td>\n",
       "      <td>404.5</td>\n",
       "      <td>0.019777</td>\n",
       "    </tr>\n",
       "    <tr>\n",
       "      <th>19</th>\n",
       "      <td>4/20/2020</td>\n",
       "      <td>20852.0</td>\n",
       "      <td>414.5</td>\n",
       "      <td>0.019878</td>\n",
       "    </tr>\n",
       "    <tr>\n",
       "      <th>20</th>\n",
       "      <td>4/21/2020</td>\n",
       "      <td>21282.0</td>\n",
       "      <td>432.5</td>\n",
       "      <td>0.020322</td>\n",
       "    </tr>\n",
       "    <tr>\n",
       "      <th>21</th>\n",
       "      <td>4/22/2020</td>\n",
       "      <td>21717.0</td>\n",
       "      <td>437.5</td>\n",
       "      <td>0.020146</td>\n",
       "    </tr>\n",
       "    <tr>\n",
       "      <th>22</th>\n",
       "      <td>4/23/2020</td>\n",
       "      <td>22157.0</td>\n",
       "      <td>403.5</td>\n",
       "      <td>0.018211</td>\n",
       "    </tr>\n",
       "    <tr>\n",
       "      <th>23</th>\n",
       "      <td>4/24/2020</td>\n",
       "      <td>22524.0</td>\n",
       "      <td>372.5</td>\n",
       "      <td>0.016538</td>\n",
       "    </tr>\n",
       "    <tr>\n",
       "      <th>24</th>\n",
       "      <td>4/25/2020</td>\n",
       "      <td>22902.0</td>\n",
       "      <td>333.0</td>\n",
       "      <td>0.014540</td>\n",
       "    </tr>\n",
       "    <tr>\n",
       "      <th>25</th>\n",
       "      <td>4/26/2020</td>\n",
       "      <td>23190.0</td>\n",
       "      <td>309.5</td>\n",
       "      <td>0.013346</td>\n",
       "    </tr>\n",
       "    <tr>\n",
       "      <th>26</th>\n",
       "      <td>4/27/2020</td>\n",
       "      <td>23521.0</td>\n",
       "      <td>316.0</td>\n",
       "      <td>0.013435</td>\n",
       "    </tr>\n",
       "    <tr>\n",
       "      <th>27</th>\n",
       "      <td>4/28/2020</td>\n",
       "      <td>23822.0</td>\n",
       "      <td>377.0</td>\n",
       "      <td>0.015826</td>\n",
       "    </tr>\n",
       "    <tr>\n",
       "      <th>28</th>\n",
       "      <td>4/29/2020</td>\n",
       "      <td>24275.0</td>\n",
       "      <td>360.5</td>\n",
       "      <td>0.014851</td>\n",
       "    </tr>\n",
       "    <tr>\n",
       "      <th>29</th>\n",
       "      <td>4/30/2020</td>\n",
       "      <td>24543.0</td>\n",
       "      <td>268.0</td>\n",
       "      <td>0.010920</td>\n",
       "    </tr>\n",
       "  </tbody>\n",
       "</table>\n",
       "</div>"
      ],
      "text/plain": [
       "         date  total_deaths  new_deaths  relative_rate\n",
       "0    4/1/2020        9387.0       961.0       0.102376\n",
       "1    4/2/2020       10348.0       905.5       0.087505\n",
       "2    4/3/2020       11198.0       799.5       0.071397\n",
       "3    4/4/2020       11947.0       721.5       0.060392\n",
       "4    4/5/2020       12641.0       697.0       0.055138\n",
       "5    4/6/2020       13341.0       702.0       0.052620\n",
       "6    4/7/2020       14045.0       725.5       0.051655\n",
       "7    4/8/2020       14792.0       701.0       0.047390\n",
       "8    4/9/2020       15447.0       644.5       0.041723\n",
       "9   4/10/2020       16081.0       579.5       0.036036\n",
       "10  4/11/2020       16606.0       564.0       0.033964\n",
       "11  4/12/2020       17209.0       575.0       0.033413\n",
       "12  4/13/2020       17756.0       423.5       0.023851\n",
       "13  4/14/2020       18056.0       476.0       0.026362\n",
       "14  4/15/2020       18708.0       629.5       0.033649\n",
       "15  4/16/2020       19315.0       647.0       0.033497\n",
       "16  4/17/2020       20002.0       364.0       0.018198\n",
       "17  4/18/2020       20043.0       225.5       0.011251\n",
       "18  4/19/2020       20453.0       404.5       0.019777\n",
       "19  4/20/2020       20852.0       414.5       0.019878\n",
       "20  4/21/2020       21282.0       432.5       0.020322\n",
       "21  4/22/2020       21717.0       437.5       0.020146\n",
       "22  4/23/2020       22157.0       403.5       0.018211\n",
       "23  4/24/2020       22524.0       372.5       0.016538\n",
       "24  4/25/2020       22902.0       333.0       0.014540\n",
       "25  4/26/2020       23190.0       309.5       0.013346\n",
       "26  4/27/2020       23521.0       316.0       0.013435\n",
       "27  4/28/2020       23822.0       377.0       0.015826\n",
       "28  4/29/2020       24275.0       360.5       0.014851\n",
       "29  4/30/2020       24543.0       268.0       0.010920"
      ]
     },
     "execution_count": 8,
     "metadata": {},
     "output_type": "execute_result"
    }
   ],
   "source": [
    "df"
   ]
  },
  {
   "cell_type": "markdown",
   "metadata": {},
   "source": [
    "# Visualization"
   ]
  },
  {
   "cell_type": "code",
   "execution_count": 9,
   "metadata": {},
   "outputs": [],
   "source": [
    "x = list(range(N))\n",
    "y = list(df['total_deaths'])"
   ]
  },
  {
   "cell_type": "code",
   "execution_count": 10,
   "metadata": {},
   "outputs": [
    {
     "data": {
      "text/plain": [
       "[<matplotlib.lines.Line2D at 0x7fe7072e2910>]"
      ]
     },
     "execution_count": 10,
     "metadata": {},
     "output_type": "execute_result"
    },
    {
     "data": {
      "image/png": "[encoded data removed]",
      "text/plain": [
       "<Figure size 388.619x252 with 1 Axes>"
      ]
     },
     "metadata": {
      "needs_background": "light"
     },
     "output_type": "display_data"
    }
   ],
   "source": [
    "fig, ax = plt.subplots(figsize=(FIGURE_WIDTH, FIGURE_HEIGHT))\n",
    "ax.set_xlabel('t')\n",
    "ax.set_ylabel('P')\n",
    "ax.plot(x, y, 'ro')"
   ]
  },
  {
   "cell_type": "code",
   "execution_count": 11,
   "metadata": {},
   "outputs": [],
   "source": [
    "fig.savefig('fig1.pgf', backend='pgf', dpi=400)"
   ]
  },
  {
   "cell_type": "code",
   "execution_count": 12,
   "metadata": {},
   "outputs": [],
   "source": [
    "x = np.array(df['total_deaths'])\n",
    "y = np.array(df['relative_rate'])"
   ]
  },
  {
   "cell_type": "code",
   "execution_count": 13,
   "metadata": {},
   "outputs": [
    {
     "data": {
      "text/plain": [
       "[<matplotlib.lines.Line2D at 0x7fe707147d00>]"
      ]
     },
     "execution_count": 13,
     "metadata": {},
     "output_type": "execute_result"
    },
    {
     "data": {
      "image/png": "[encoded data removed]",
      "text/plain": [
       "<Figure size 388.619x252 with 1 Axes>"
      ]
     },
     "metadata": {
      "needs_background": "light"
     },
     "output_type": "display_data"
    }
   ],
   "source": [
    "fig, ax = plt.subplots(figsize=(FIGURE_WIDTH, FIGURE_HEIGHT))\n",
    "ax.set_xlabel('P')\n",
    "ax.set_ylabel('1/P * dP/dt')\n",
    "ax.plot(x, y, 'ro')"
   ]
  },
  {
   "cell_type": "code",
   "execution_count": 14,
   "metadata": {},
   "outputs": [],
   "source": [
    "fig.savefig('fig2.pgf', backend='pgf', dpi=400)"
   ]
  },
  {
   "cell_type": "code",
   "execution_count": 15,
   "metadata": {},
   "outputs": [],
   "source": [
    "a, b = np.polyfit(x, y, 1)"
   ]
  },
  {
   "cell_type": "code",
   "execution_count": 16,
   "metadata": {},
   "outputs": [
    {
     "data": {
      "text/plain": [
       "[<matplotlib.lines.Line2D at 0x7fe707136250>]"
      ]
     },
     "execution_count": 16,
     "metadata": {},
     "output_type": "execute_result"
    },
    {
     "data": {
      "image/png": "[encoded data removed]",
      "text/plain": [
       "<Figure size 388.619x252 with 1 Axes>"
      ]
     },
     "metadata": {
      "needs_background": "light"
     },
     "output_type": "display_data"
    }
   ],
   "source": [
    "fig, ax = plt.subplots(figsize=(FIGURE_WIDTH, FIGURE_HEIGHT))\n",
    "ax.set_xlabel('P')\n",
    "ax.set_ylabel('1/P * dP/dt')\n",
    "ax.plot(x, y, 'ro')\n",
    "ax.plot(x, a * x + b)"
   ]
  },
  {
   "cell_type": "code",
   "execution_count": 17,
   "metadata": {},
   "outputs": [],
   "source": [
    "fig.savefig('fig3.pgf', backend='pgf', dpi=400)"
   ]
  },
  {
   "cell_type": "code",
   "execution_count": 18,
   "metadata": {},
   "outputs": [
    {
     "data": {
      "text/plain": [
       "(-4.827879002776788e-06, 0.12215521367938273)"
      ]
     },
     "execution_count": 18,
     "metadata": {},
     "output_type": "execute_result"
    }
   ],
   "source": [
    "a, b"
   ]
  },
  {
   "cell_type": "code",
   "execution_count": 19,
   "metadata": {},
   "outputs": [
    {
     "data": {
      "text/plain": [
       "(9387.0, 122169.433209181)"
      ]
     },
     "execution_count": 19,
     "metadata": {},
     "output_type": "execute_result"
    }
   ],
   "source": [
    "P_0 = df.iloc[0].total_deaths\n",
    "A = P_0 / (a * P_0 + b)\n",
    "P_0, A"
   ]
  },
  {
   "cell_type": "code",
   "execution_count": 20,
   "metadata": {},
   "outputs": [],
   "source": [
    "def calcP(t):\n",
    "    return (b * A * math.exp(b * t)) / (1 - a * A * math.exp(b * t))\n",
    "\n",
    "def calcdP(t):\n",
    "    return (b * b * A * math.exp(b * t)) / ((1 - a * A * math.exp(b * t)) ** 2)\n",
    "\n",
    "vcalcP = np.vectorize(calcP)\n",
    "vcalcdP = np.vectorize(calcdP)"
   ]
  },
  {
   "cell_type": "code",
   "execution_count": 21,
   "metadata": {},
   "outputs": [],
   "source": [
    "x = list(range(N))\n",
    "y = list(df['total_deaths'])\n",
    "x_pred = np.linspace(0, N, 1000)\n",
    "y_pred = vcalcP(x_pred)"
   ]
  },
  {
   "cell_type": "code",
   "execution_count": 22,
   "metadata": {},
   "outputs": [
    {
     "data": {
      "text/plain": [
       "[<matplotlib.lines.Line2D at 0x7fe70709c130>]"
      ]
     },
     "execution_count": 22,
     "metadata": {},
     "output_type": "execute_result"
    },
    {
     "data": {
      "image/png": "[encoded data removed]",
      "text/plain": [
       "<Figure size 388.619x252 with 1 Axes>"
      ]
     },
     "metadata": {
      "needs_background": "light"
     },
     "output_type": "display_data"
    }
   ],
   "source": [
    "fig, ax = plt.subplots(figsize=(FIGURE_WIDTH, FIGURE_HEIGHT))\n",
    "ax.set_xlabel('P')\n",
    "ax.set_ylabel('t')\n",
    "ax.plot(x, y, 'ro')\n",
    "ax.plot(x_pred, y_pred)"
   ]
  },
  {
   "cell_type": "code",
   "execution_count": 23,
   "metadata": {},
   "outputs": [],
   "source": [
    "fig.savefig('fig4.pgf', backend='pgf', dpi=400)"
   ]
  },
  {
   "cell_type": "code",
   "execution_count": 24,
   "metadata": {},
   "outputs": [],
   "source": [
    "x = list(range(N))\n",
    "y = list(df['new_deaths'])\n",
    "x_pred = np.linspace(0, N, 1000)\n",
    "y_pred = vcalcdP(x_pred)"
   ]
  },
  {
   "cell_type": "code",
   "execution_count": 25,
   "metadata": {},
   "outputs": [
    {
     "data": {
      "text/plain": [
       "[<matplotlib.lines.Line2D at 0x7fe7070734c0>]"
      ]
     },
     "execution_count": 25,
     "metadata": {},
     "output_type": "execute_result"
    },
    {
     "data": {
      "image/png": "[encoded data removed]",
      "text/plain": [
       "<Figure size 388.619x252 with 1 Axes>"
      ]
     },
     "metadata": {
      "needs_background": "light"
     },
     "output_type": "display_data"
    }
   ],
   "source": [
    "fig, ax = plt.subplots(figsize=(FIGURE_WIDTH, FIGURE_HEIGHT))\n",
    "ax.set_xlabel('t')\n",
    "ax.set_ylabel('dP/dt')\n",
    "ax.plot(x, y, 'ro')\n",
    "ax.plot(x_pred, y_pred)"
   ]
  },
  {
   "cell_type": "code",
   "execution_count": 26,
   "metadata": {},
   "outputs": [],
   "source": [
    "fig.savefig('fig5.pgf', backend='pgf', dpi=400)"
   ]
  },
  {
   "cell_type": "code",
   "execution_count": 27,
   "metadata": {},
   "outputs": [],
   "source": [
    "f = open('data.tex', 'w')\n",
    "\n",
    "f.write('\\\\begin{table}[h!]\\n')\n",
    "f.write('\\\\centering\\n')\n",
    "f.write('\\\\tabulinesep=1.2mm\\n')\n",
    "f.write('\\\\begin{tabu}{ |c|c|c|c|c| }\\n')\n",
    "f.write('  \\\\hline\\n')\n",
    "f.write('  Date & $t$ & $P$ & $\\\\displaystyle\\\\diff{P}{t}$ & $\\\\dfrac{1}{P} \\\\displaystyle\\\\diff{P}{t}$ \\\\\\\\\\n')\n",
    "f.write('  \\\\hline\\n')\n",
    "\n",
    "for i in range(len(df)):\n",
    "    row = df.iloc[i]\n",
    "    f.write('  ' + row.date + \\\n",
    "            ' & ' + str(i) + \\\n",
    "            ' & ' + str(row.total_deaths) + \\\n",
    "            ' & ' + str(row.new_deaths) + \\\n",
    "            ' & ' + str(row.relative_rate) + \\\n",
    "            '\\\\\\\\\\n')\n",
    "\n",
    "f.write('  \\\\hline\\n')\n",
    "f.write('\\\\end{tabu}\\n')\n",
    "f.write('\\\\end{table}\\n')\n",
    "\n",
    "f.close()"
   ]
  }
 ],
 "metadata": {
  "kernelspec": {
   "display_name": "Python 3",
   "language": "python",
   "name": "python3"
  },
  "language_info": {
   "codemirror_mode": {
    "name": "ipython",
    "version": 3
   },
   "file_extension": ".py",
   "mimetype": "text/x-python",
   "name": "python",
   "nbconvert_exporter": "python",
   "pygments_lexer": "ipython3",
   "version": "3.8.6"
  }
 },
 "nbformat": 4,
 "nbformat_minor": 4
}
